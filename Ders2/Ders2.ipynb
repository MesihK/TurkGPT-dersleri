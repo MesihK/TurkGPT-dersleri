{
 "cells": [
  {
   "cell_type": "code",
   "execution_count": 1,
   "metadata": {
    "colab": {
     "base_uri": "https://localhost:8080/"
    },
    "executionInfo": {
     "elapsed": 151,
     "status": "ok",
     "timestamp": 1738035894384,
     "user": {
      "displayName": "Mesih Kilinc",
      "userId": "18025626360093081359"
     },
     "user_tz": 360
    },
    "id": "NmGMVI3z-o1f",
    "outputId": "37e86852-a00e-478f-cbea-263c2c7b3015"
   },
   "outputs": [
    {
     "name": "stdout",
     "output_type": "stream",
     "text": [
      "a:[[1 2 3 4 5]]\n",
      "b:[[1]\n",
      " [2]\n",
      " [3]\n",
      " [4]\n",
      " [5]]\n",
      "a.T:[[1]\n",
      " [2]\n",
      " [3]\n",
      " [4]\n",
      " [5]]\n",
      "a@a.T:[[55]]\n",
      "a@b:[[55]]\n",
      "b@a:[[[ 1  2  3  4  5]\n",
      "  [ 2  4  6  8 10]\n",
      "  [ 3  6  9 12 15]\n",
      "  [ 4  8 12 16 20]\n",
      "  [ 5 10 15 20 25]]]\n"
     ]
    }
   ],
   "source": [
    "import numpy as np\n",
    "\n",
    "a = np.array([[1,2,3,4,5]]) # 1 x 4\n",
    "b = np.array([[1],[2],[3],[4],[5]]) # 4 x 1\n",
    "print(f'a:{a}\\nb:{b}')\n",
    "print(f'a.T:{a.T}\\na@a.T:{a@a.T}')\n",
    "print(f'a@b:{a@b}')\n",
    "print(f'b@a:{b@[a]}')\n"
   ]
  },
  {
   "cell_type": "code",
   "execution_count": 2,
   "metadata": {
    "id": "hbwnX-NdA7I4"
   },
   "outputs": [],
   "source": [
    "skalar = 1\n",
    "rowVector = [1,2,3] # 1 x 3\n",
    "columnVector = [[1],[2],[3]] # 3 x 1\n",
    "matrix = [[1,2], [2, 4], [3, 6], [4, 8]] # 4 x 2\n",
    "tensor = [[[1,2],[2,3]],[[5,6],[7,8]]] # 2 x 2 x 2"
   ]
  },
  {
   "cell_type": "code",
   "execution_count": 3,
   "metadata": {
    "colab": {
     "base_uri": "https://localhost:8080/"
    },
    "executionInfo": {
     "elapsed": 103,
     "status": "ok",
     "timestamp": 1738036530731,
     "user": {
      "displayName": "Mesih Kilinc",
      "userId": "18025626360093081359"
     },
     "user_tz": 360
    },
    "id": "5m4AmPiaC4ko",
    "outputId": "8d5e8d3f-0e76-44de-e89e-f25212aa9281"
   },
   "outputs": [
    {
     "name": "stdout",
     "output_type": "stream",
     "text": [
      "v:[3. 2.], r:[1.59807621 3.23205081]\n"
     ]
    }
   ],
   "source": [
    "def create_rotation_matrix(theta):\n",
    "    theta = np.radians(theta)\n",
    "    return np.array([\n",
    "        [np.cos(theta), -np.sin(theta)],\n",
    "        [np.sin(theta), np.cos(theta)]\n",
    "    ])\n",
    "\n",
    "vector = np.array([3.0, 2.0])\n",
    "rotated = create_rotation_matrix(30)@vector\n",
    "print(f'v:{vector}, r:{rotated}')"
   ]
  },
  {
   "cell_type": "code",
   "execution_count": 4,
   "metadata": {
    "colab": {
     "base_uri": "https://localhost:8080/",
     "height": 469
    },
    "executionInfo": {
     "elapsed": 361,
     "status": "ok",
     "timestamp": 1738036785272,
     "user": {
      "displayName": "Mesih Kilinc",
      "userId": "18025626360093081359"
     },
     "user_tz": 360
    },
    "id": "YOrYcl_sDP_Y",
    "outputId": "db3bdfef-747e-4429-e573-019ff7ec087a"
   },
   "outputs": [
    {
     "data": {
      "text/plain": [
       "<matplotlib.legend.Legend at 0x7c54201b2f90>"
      ]
     },
     "execution_count": 4,
     "metadata": {},
     "output_type": "execute_result"
    },
    {
     "data": {
      "image/png": "[encoded data removed]",
      "text/plain": [
       "<Figure size 500x500 with 1 Axes>"
      ]
     },
     "metadata": {},
     "output_type": "display_data"
    }
   ],
   "source": [
    "import matplotlib.pyplot as plt\n",
    "\n",
    "plt.figure(figsize=(5, 5))\n",
    "plt.grid(True)\n",
    "\n",
    "plt.xlim(0, 4)\n",
    "plt.ylim(0, 4)\n",
    "\n",
    "plt.quiver(0, 0, vector[0], vector[1],\n",
    "          angles='xy', scale_units='xy', scale=1, color='green',\n",
    "          label='Orjinal Vektör')\n",
    "\n",
    "plt.quiver(0, 0, rotated[0], rotated[1],\n",
    "          angles='xy', scale_units='xy', scale=1, color='red',\n",
    "          label='Dönderilmiş Vektör')\n",
    "\n",
    "plt.legend()"
   ]
  },
  {
   "cell_type": "code",
   "execution_count": 5,
   "metadata": {
    "colab": {
     "base_uri": "https://localhost:8080/"
    },
    "executionInfo": {
     "elapsed": 142,
     "status": "ok",
     "timestamp": 1738036848440,
     "user": {
      "displayName": "Mesih Kilinc",
      "userId": "18025626360093081359"
     },
     "user_tz": 360
    },
    "id": "fk4RA33TEXag",
    "outputId": "45c93454-f242-4bf0-d760-1ef53e347b2d"
   },
   "outputs": [
    {
     "data": {
      "text/plain": [
       "np.float64(3.0)"
      ]
     },
     "execution_count": 5,
     "metadata": {},
     "output_type": "execute_result"
    }
   ],
   "source": [
    "np.mean([1,2,3,4,5])"
   ]
  },
  {
   "cell_type": "code",
   "execution_count": 6,
   "metadata": {
    "colab": {
     "base_uri": "https://localhost:8080/"
    },
    "executionInfo": {
     "elapsed": 180,
     "status": "ok",
     "timestamp": 1738036873872,
     "user": {
      "displayName": "Mesih Kilinc",
      "userId": "18025626360093081359"
     },
     "user_tz": 360
    },
    "id": "nluuAeooEfXe",
    "outputId": "12aabd14-abde-44c5-d1c3-3298af56dfff"
   },
   "outputs": [
    {
     "data": {
      "text/plain": [
       "np.float64(1.4142135623730951)"
      ]
     },
     "execution_count": 6,
     "metadata": {},
     "output_type": "execute_result"
    }
   ],
   "source": [
    "np.std([1,2,3,4,5])"
   ]
  },
  {
   "cell_type": "code",
   "execution_count": null,
   "metadata": {
    "id": "90ondjY_ATT6"
   },
   "outputs": [],
   "source": [
    "[1\n",
    " 0\n",
    " 0\n",
    " 0]"
   ]
  }
 ],
 "metadata": {
  "colab": {
   "authorship_tag": "ABX9TyPutbHaJwtiGQfqNpwzgEbw",
   "provenance": []
  },
  "kernelspec": {
   "display_name": "Python 3 (ipykernel)",
   "language": "python",
   "name": "python3"
  },
  "language_info": {
   "codemirror_mode": {
    "name": "ipython",
    "version": 3
   },
   "file_extension": ".py",
   "mimetype": "text/x-python",
   "name": "python",
   "nbconvert_exporter": "python",
   "pygments_lexer": "ipython3",
   "version": "3.13.1"
  }
 },
 "nbformat": 4,
 "nbformat_minor": 4
}
