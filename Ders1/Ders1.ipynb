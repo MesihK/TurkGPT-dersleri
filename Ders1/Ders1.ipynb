{
 "cells": [
  {
   "cell_type": "code",
   "execution_count": 18,
   "metadata": {
    "colab": {
     "base_uri": "https://localhost:8080/"
    },
    "executionInfo": {
     "elapsed": 61,
     "status": "ok",
     "timestamp": 1737488626843,
     "user": {
      "displayName": "Mesih Kilinc",
      "userId": "18025626360093081359"
     },
     "user_tz": 360
    },
    "id": "i2Iy1KT8MCKr",
    "outputId": "5eb35193-bf3e-4d28-b47b-ccda65b85632"
   },
   "outputs": [
    {
     "name": "stdout",
     "output_type": "stream",
     "text": [
      "Merhaba Dunya 2 2\n",
      "Merhaba Dunya, a:2, b:2.00\n"
     ]
    }
   ],
   "source": [
    "a, b = 1, 2\n",
    "a += 1\n",
    "print(\"Merhaba Dunya\", a, b)\n",
    "print(f\"Merhaba Dunya, a:{a}, b:{b:.02f}\")\n",
    "\n",
    "c = None"
   ]
  },
  {
   "cell_type": "code",
   "execution_count": 21,
   "metadata": {
    "colab": {
     "base_uri": "https://localhost:8080/"
    },
    "executionInfo": {
     "elapsed": 56,
     "status": "ok",
     "timestamp": 1737488793356,
     "user": {
      "displayName": "Mesih Kilinc",
      "userId": "18025626360093081359"
     },
     "user_tz": 360
    },
    "id": "6ur5At7QZOVP",
    "outputId": "6ce1b24e-7ce9-4af8-f262-87470de614c2"
   },
   "outputs": [
    {
     "name": "stdout",
     "output_type": "stream",
     "text": [
      "a 2 imis\n"
     ]
    }
   ],
   "source": [
    "if a == 3:\n",
    "  print(\"a 3 imis\")\n",
    "elif a == 2:\n",
    "  print(\"a 2 imis\")\n",
    "else:\n",
    "  print(\"a 3 veya 2 degilmis\")\n",
    "\n"
   ]
  },
  {
   "cell_type": "code",
   "execution_count": 28,
   "metadata": {
    "executionInfo": {
     "elapsed": 87,
     "status": "ok",
     "timestamp": 1737488997553,
     "user": {
      "displayName": "Mesih Kilinc",
      "userId": "18025626360093081359"
     },
     "user_tz": 360
    },
    "id": "D0fTmJ1qaCRD"
   },
   "outputs": [],
   "source": [
    "a = ['a1','a2','a3','a4','a5']\n",
    "b = [1,2,3,4,5]"
   ]
  },
  {
   "cell_type": "code",
   "execution_count": 35,
   "metadata": {
    "colab": {
     "base_uri": "https://localhost:8080/"
    },
    "executionInfo": {
     "elapsed": 60,
     "status": "ok",
     "timestamp": 1737489062023,
     "user": {
      "displayName": "Mesih Kilinc",
      "userId": "18025626360093081359"
     },
     "user_tz": 360
    },
    "id": "DwQpLf9rZyx7",
    "outputId": "0dc2acb7-d262-48c2-b5ba-6aeb8c768892"
   },
   "outputs": [
    {
     "name": "stdout",
     "output_type": "stream",
     "text": [
      "0\n",
      "1\n",
      "2\n",
      "3\n",
      "4\n",
      "1\n",
      "2\n",
      "3\n",
      "4\n",
      "5\n"
     ]
    }
   ],
   "source": [
    "# for(int i = 0; i < 5; i++)\n",
    "for i in range(5):\n",
    "  print(i)\n",
    "\n",
    "i = 0\n",
    "while i != 5:\n",
    "  i = b[i]\n",
    "  print(i)"
   ]
  },
  {
   "cell_type": "code",
   "execution_count": 63,
   "metadata": {
    "colab": {
     "base_uri": "https://localhost:8080/"
    },
    "executionInfo": {
     "elapsed": 59,
     "status": "ok",
     "timestamp": 1737489442810,
     "user": {
      "displayName": "Mesih Kilinc",
      "userId": "18025626360093081359"
     },
     "user_tz": 360
    },
    "id": "YSgAYCupa0SP",
    "outputId": "af295553-d9e3-4a2a-c986-3142a8693514"
   },
   "outputs": [
    {
     "name": "stdout",
     "output_type": "stream",
     "text": [
      "4 [1, 2, 3]\n",
      "None [1, 2, 3, 4]\n"
     ]
    }
   ],
   "source": [
    "a = [1,2,3,4]\n",
    "print(a.pop(), a)\n",
    "print(a.insert(len(a),4), a)"
   ]
  },
  {
   "cell_type": "code",
   "execution_count": 86,
   "metadata": {
    "colab": {
     "base_uri": "https://localhost:8080/"
    },
    "executionInfo": {
     "elapsed": 63,
     "status": "ok",
     "timestamp": 1737489830444,
     "user": {
      "displayName": "Mesih Kilinc",
      "userId": "18025626360093081359"
     },
     "user_tz": 360
    },
    "id": "eh9WSjVxcTOL",
    "outputId": "0a504875-6583-47eb-b7b3-94aa98b74e3e"
   },
   "outputs": [
    {
     "name": "stdout",
     "output_type": "stream",
     "text": [
      "a 1\n",
      "b 2\n",
      "c 3\n",
      "d 4\n"
     ]
    }
   ],
   "source": [
    "a = ['a','b','c','d']\n",
    "#for(int i=0;i<a.length();i++)\n",
    "#for i in range(len(a)):\n",
    "#  print(i,a[i])\n",
    "\n",
    "#for i,c in enumerate(a):\n",
    "#  print(i,c)\n",
    "\n",
    "b = [1,2,3,4]\n",
    "\n",
    "for i,j in zip(a,b):\n",
    "  print(i,j)"
   ]
  },
  {
   "cell_type": "code",
   "execution_count": 89,
   "metadata": {
    "colab": {
     "base_uri": "https://localhost:8080/"
    },
    "executionInfo": {
     "elapsed": 69,
     "status": "ok",
     "timestamp": 1737489890196,
     "user": {
      "displayName": "Mesih Kilinc",
      "userId": "18025626360093081359"
     },
     "user_tz": 360
    },
    "id": "Q9Q2riNwd0og",
    "outputId": "1bb4e6c6-0294-4580-c9c2-488480495bae"
   },
   "outputs": [
    {
     "data": {
      "text/plain": [
       "[4, 3, 2, 1]"
      ]
     },
     "execution_count": 89,
     "metadata": {},
     "output_type": "execute_result"
    }
   ],
   "source": [
    "b = [3,1,4,2]\n",
    "b.sort()\n",
    "b.reverse()\n",
    "b"
   ]
  },
  {
   "cell_type": "code",
   "execution_count": 93,
   "metadata": {
    "colab": {
     "base_uri": "https://localhost:8080/"
    },
    "executionInfo": {
     "elapsed": 72,
     "status": "ok",
     "timestamp": 1737489992382,
     "user": {
      "displayName": "Mesih Kilinc",
      "userId": "18025626360093081359"
     },
     "user_tz": 360
    },
    "id": "eSyGi3qHeDB6",
    "outputId": "15d9ca92-146b-414a-e147-bf8eafeabda1"
   },
   "outputs": [
    {
     "data": {
      "text/plain": [
       "[4, 3, 2, 1]"
      ]
     },
     "execution_count": 93,
     "metadata": {},
     "output_type": "execute_result"
    }
   ],
   "source": [
    "b = [3,1,4,2]\n",
    "b.sort(key=lambda x: -x)\n",
    "b"
   ]
  },
  {
   "cell_type": "code",
   "execution_count": 101,
   "metadata": {
    "colab": {
     "base_uri": "https://localhost:8080/"
    },
    "executionInfo": {
     "elapsed": 156,
     "status": "ok",
     "timestamp": 1737490122375,
     "user": {
      "displayName": "Mesih Kilinc",
      "userId": "18025626360093081359"
     },
     "user_tz": 360
    },
    "id": "0W80wriNeYBQ",
    "outputId": "4effa2b6-5c01-4f32-90b3-6d1efe3e5a41"
   },
   "outputs": [
    {
     "name": "stdout",
     "output_type": "stream",
     "text": [
      "5 1 6 1.5\n"
     ]
    }
   ],
   "source": [
    "def topla(a,b):\n",
    "  return a+b\n",
    "\n",
    "\n",
    "def mat(a,b):\n",
    "  return a+b,a-b,a*b,a/b\n",
    "\n",
    "toplam,fark,carpim,bolum = mat(3,2)\n",
    "print(toplam,fark,carpim,bolum)"
   ]
  },
  {
   "cell_type": "code",
   "execution_count": 102,
   "metadata": {
    "colab": {
     "base_uri": "https://localhost:8080/"
    },
    "executionInfo": {
     "elapsed": 4,
     "status": "ok",
     "timestamp": 1737490194079,
     "user": {
      "displayName": "Mesih Kilinc",
      "userId": "18025626360093081359"
     },
     "user_tz": 360
    },
    "id": "A8q_wgj7e6Bn",
    "outputId": "cbcc621b-3d03-4ed6-c300-8567a2aea53d"
   },
   "outputs": [
    {
     "data": {
      "text/plain": [
       "['*', '**', '***', '****']"
      ]
     },
     "execution_count": 102,
     "metadata": {},
     "output_type": "execute_result"
    }
   ],
   "source": [
    "a = ['*'*i for i in range(1,5)]\n",
    "a"
   ]
  },
  {
   "cell_type": "code",
   "execution_count": 107,
   "metadata": {
    "colab": {
     "base_uri": "https://localhost:8080/"
    },
    "executionInfo": {
     "elapsed": 103,
     "status": "ok",
     "timestamp": 1737490330029,
     "user": {
      "displayName": "Mesih Kilinc",
      "userId": "18025626360093081359"
     },
     "user_tz": 360
    },
    "id": "iNt_Ic03fQfR",
    "outputId": "7c409610-fc17-492b-ff44-9d1038b1111b"
   },
   "outputs": [
    {
     "data": {
      "text/plain": [
       "(3, 'uc')"
      ]
     },
     "execution_count": 107,
     "metadata": {},
     "output_type": "execute_result"
    }
   ],
   "source": [
    "b = 3\n",
    "bstr = 'uc' if b == 3 else 'dort' if b == 4 else 'uc ve dort degil'\n",
    "b, bstr"
   ]
  },
  {
   "cell_type": "code",
   "execution_count": 112,
   "metadata": {
    "colab": {
     "base_uri": "https://localhost:8080/"
    },
    "executionInfo": {
     "elapsed": 100,
     "status": "ok",
     "timestamp": 1737490378370,
     "user": {
      "displayName": "Mesih Kilinc",
      "userId": "18025626360093081359"
     },
     "user_tz": 360
    },
    "id": "E3UVnHWDfpKW",
    "outputId": "ff4f4fcc-c865-4fcd-878e-18a0312c7fcc"
   },
   "outputs": [
    {
     "data": {
      "text/plain": [
       "['Merh', 'b', ' Duny', '']"
      ]
     },
     "execution_count": 112,
     "metadata": {},
     "output_type": "execute_result"
    }
   ],
   "source": [
    "s = 'Merhaba Dunya'\n",
    "s.split('a')"
   ]
  },
  {
   "cell_type": "code",
   "execution_count": 113,
   "metadata": {
    "colab": {
     "base_uri": "https://localhost:8080/"
    },
    "executionInfo": {
     "elapsed": 99,
     "status": "ok",
     "timestamp": 1737490451036,
     "user": {
      "displayName": "Mesih Kilinc",
      "userId": "18025626360093081359"
     },
     "user_tz": 360
    },
    "id": "DXwjjFI7f_QU",
    "outputId": "cccd5a7b-1b96-4201-d574-be3007cd1a72"
   },
   "outputs": [
    {
     "name": "stdout",
     "output_type": "stream",
     "text": [
      "Username; Identifier;First name;Last name\n",
      "booker12;9012;Rachel;Booker\n",
      "grey07;2070;Laura;Grey\n",
      "johnson81;4081;Craig;Johnson\n",
      "jenkins46;9346;Mary;Jenkins\n",
      "smith79;5079;Jamie;Smith\n",
      "\n",
      "\n"
     ]
    }
   ],
   "source": [
    "with open('username.csv','r') as f:\n",
    "  print(f.read())"
   ]
  },
  {
   "cell_type": "code",
   "execution_count": 115,
   "metadata": {
    "colab": {
     "base_uri": "https://localhost:8080/"
    },
    "executionInfo": {
     "elapsed": 111,
     "status": "ok",
     "timestamp": 1737490541189,
     "user": {
      "displayName": "Mesih Kilinc",
      "userId": "18025626360093081359"
     },
     "user_tz": 360
    },
    "id": "w2tKhbFPf2vR",
    "outputId": "90dd7c05-7277-458a-a146-bfc2ed7aaf0e"
   },
   "outputs": [
    {
     "data": {
      "text/plain": [
       "[['booker12', '9012', 'Rachel', 'Booker'],\n",
       " ['grey07', '2070', 'Laura', 'Grey'],\n",
       " ['johnson81', '4081', 'Craig', 'Johnson'],\n",
       " ['jenkins46', '9346', 'Mary', 'Jenkins'],\n",
       " ['smith79', '5079', 'Jamie', 'Smith']]"
      ]
     },
     "execution_count": 115,
     "metadata": {},
     "output_type": "execute_result"
    }
   ],
   "source": [
    "data = []\n",
    "with open('username.csv','r') as f:\n",
    "  for line in f:\n",
    "    if line.startswith(\"Username\"): continue\n",
    "    if line.strip() == '': continue\n",
    "    line = line.strip().split(';')\n",
    "    data.append(line)\n",
    "\n",
    "data"
   ]
  },
  {
   "cell_type": "code",
   "execution_count": 116,
   "metadata": {
    "colab": {
     "base_uri": "https://localhost:8080/",
     "height": 35
    },
    "executionInfo": {
     "elapsed": 91,
     "status": "ok",
     "timestamp": 1737490605804,
     "user": {
      "displayName": "Mesih Kilinc",
      "userId": "18025626360093081359"
     },
     "user_tz": 360
    },
    "id": "cnFxPZG8glKz",
    "outputId": "11483fb4-7c23-4811-c155-9a27495e8b86"
   },
   "outputs": [
    {
     "data": {
      "application/vnd.google.colaboratory.intrinsic+json": {
       "type": "string"
      },
      "text/plain": [
       "'1,2,3,4'"
      ]
     },
     "execution_count": 116,
     "metadata": {},
     "output_type": "execute_result"
    }
   ],
   "source": [
    "a = [1,2,3,4]\n",
    "','.join([str(i) for i in a])"
   ]
  },
  {
   "cell_type": "code",
   "execution_count": 117,
   "metadata": {
    "executionInfo": {
     "elapsed": 103,
     "status": "ok",
     "timestamp": 1737490750371,
     "user": {
      "displayName": "Mesih Kilinc",
      "userId": "18025626360093081359"
     },
     "user_tz": 360
    },
    "id": "tRihQAu5gehb"
   },
   "outputs": [],
   "source": [
    "with open('test.csv','w') as f:\n",
    "  f.write('\\n'.join([','.join(d) for d in data]))"
   ]
  },
  {
   "cell_type": "code",
   "execution_count": 121,
   "metadata": {
    "colab": {
     "base_uri": "https://localhost:8080/"
    },
    "executionInfo": {
     "elapsed": 78,
     "status": "ok",
     "timestamp": 1737490855629,
     "user": {
      "displayName": "Mesih Kilinc",
      "userId": "18025626360093081359"
     },
     "user_tz": 360
    },
    "id": "qUnomUVxhc0r",
    "outputId": "28928db7-714d-4f88-a217-c76f6c61d7dd"
   },
   "outputs": [
    {
     "data": {
      "text/plain": [
       "1"
      ]
     },
     "execution_count": 121,
     "metadata": {},
     "output_type": "execute_result"
    }
   ],
   "source": [
    "a = {'element1': 1, 'element2': 2}\n",
    "a['element1']"
   ]
  },
  {
   "cell_type": "code",
   "execution_count": 123,
   "metadata": {
    "colab": {
     "base_uri": "https://localhost:8080/",
     "height": 35
    },
    "executionInfo": {
     "elapsed": 123,
     "status": "ok",
     "timestamp": 1737490890384,
     "user": {
      "displayName": "Mesih Kilinc",
      "userId": "18025626360093081359"
     },
     "user_tz": 360
    },
    "id": "a3gk3qZRhqND",
    "outputId": "b914301e-1b0c-4973-9374-3fed47db398c"
   },
   "outputs": [
    {
     "data": {
      "application/vnd.google.colaboratory.intrinsic+json": {
       "type": "string"
      },
      "text/plain": [
       "'value'"
      ]
     },
     "execution_count": 123,
     "metadata": {},
     "output_type": "execute_result"
    }
   ],
   "source": [
    "a = {'element1': {'key':'value'}, 'element2': 2}\n",
    "a['element1']['key']"
   ]
  },
  {
   "cell_type": "code",
   "execution_count": 125,
   "metadata": {
    "colab": {
     "base_uri": "https://localhost:8080/",
     "height": 176
    },
    "executionInfo": {
     "elapsed": 110,
     "status": "error",
     "timestamp": 1737491055008,
     "user": {
      "displayName": "Mesih Kilinc",
      "userId": "18025626360093081359"
     },
     "user_tz": 360
    },
    "id": "8SWU69OTiUyO",
    "outputId": "c9170d3b-34b9-48e7-b695-102c040c0568"
   },
   "outputs": [
    {
     "ename": "TypeError",
     "evalue": "can only concatenate list (not \"int\") to list",
     "output_type": "error",
     "traceback": [
      "\u001b[0;31m---------------------------------------------------------------------------\u001b[0m",
      "\u001b[0;31mTypeError\u001b[0m                                 Traceback (most recent call last)",
      "\u001b[0;32m<ipython-input-125-6108905cc934>\u001b[0m in \u001b[0;36m<cell line: 0>\u001b[0;34m()\u001b[0m\n\u001b[1;32m      2\u001b[0m \u001b[0mb\u001b[0m \u001b[0;34m=\u001b[0m \u001b[0;36m1\u001b[0m\u001b[0;34m\u001b[0m\u001b[0;34m\u001b[0m\u001b[0m\n\u001b[1;32m      3\u001b[0m \u001b[0;34m\u001b[0m\u001b[0m\n\u001b[0;32m----> 4\u001b[0;31m \u001b[0ma\u001b[0m \u001b[0;34m+\u001b[0m \u001b[0mb\u001b[0m\u001b[0;34m\u001b[0m\u001b[0;34m\u001b[0m\u001b[0m\n\u001b[0m",
      "\u001b[0;31mTypeError\u001b[0m: can only concatenate list (not \"int\") to list"
     ]
    }
   ],
   "source": [
    "a = [1,2,3,4]\n",
    "b = 1\n",
    "\n",
    "a + b"
   ]
  },
  {
   "cell_type": "code",
   "execution_count": 127,
   "metadata": {
    "colab": {
     "base_uri": "https://localhost:8080/"
    },
    "executionInfo": {
     "elapsed": 101,
     "status": "ok",
     "timestamp": 1737491082759,
     "user": {
      "displayName": "Mesih Kilinc",
      "userId": "18025626360093081359"
     },
     "user_tz": 360
    },
    "id": "6MkvFHtgiQvJ",
    "outputId": "1e16b915-294d-49f5-aac4-34d13e824187"
   },
   "outputs": [
    {
     "data": {
      "text/plain": [
       "array([2, 3, 4, 5])"
      ]
     },
     "execution_count": 127,
     "metadata": {},
     "output_type": "execute_result"
    }
   ],
   "source": [
    "import numpy as np\n",
    "\n",
    "a = np.array([1,2,3,4])\n",
    "b = 1\n",
    "a + b\n"
   ]
  }
 ],
 "metadata": {
  "colab": {
   "authorship_tag": "ABX9TyNnKPcYd8iFS7jqbv0hJOKE",
   "provenance": []
  },
  "kernelspec": {
   "display_name": "Python 3 (ipykernel)",
   "language": "python",
   "name": "python3"
  },
  "language_info": {
   "codemirror_mode": {
    "name": "ipython",
    "version": 3
   },
   "file_extension": ".py",
   "mimetype": "text/x-python",
   "name": "python",
   "nbconvert_exporter": "python",
   "pygments_lexer": "ipython3",
   "version": "3.13.1"
  }
 },
 "nbformat": 4,
 "nbformat_minor": 4
}
