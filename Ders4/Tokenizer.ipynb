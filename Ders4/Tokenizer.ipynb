{
 "cells": [
  {
   "cell_type": "code",
   "execution_count": 6,
   "metadata": {
    "colab": {
     "base_uri": "https://localhost:8080/"
    },
    "executionInfo": {
     "elapsed": 151,
     "status": "ok",
     "timestamp": 1739667144611,
     "user": {
      "displayName": "Mesih Kilinc",
      "userId": "18025626360093081359"
     },
     "user_tz": 360
    },
    "id": "t-QpSVyXMyHK",
    "outputId": "e98d0f53-c4c5-497f-c9da-f60e6d3acf54"
   },
   "outputs": [
    {
     "data": {
      "text/plain": [
       "(305, [196, 177])"
      ]
     },
     "execution_count": 6,
     "metadata": {},
     "output_type": "execute_result"
    }
   ],
   "source": [
    "ord('ı'), list('ı'.encode('utf-8'))"
   ]
  },
  {
   "cell_type": "code",
   "execution_count": 11,
   "metadata": {
    "colab": {
     "base_uri": "https://localhost:8080/"
    },
    "executionInfo": {
     "elapsed": 143,
     "status": "ok",
     "timestamp": 1739667309378,
     "user": {
      "displayName": "Mesih Kilinc",
      "userId": "18025626360093081359"
     },
     "user_tz": 360
    },
    "id": "v4NfIl53Prd3",
    "outputId": "472f7c1d-5917-4701-e2ce-5fed9454bcb9"
   },
   "outputs": [
    {
     "data": {
      "text/plain": [
       "(98, 97, 99, 1, 2)"
      ]
     },
     "execution_count": 11,
     "metadata": {},
     "output_type": "execute_result"
    }
   ],
   "source": [
    "ord('b'),ord('a'),ord('c'),98-97,99-97"
   ]
  },
  {
   "cell_type": "code",
   "execution_count": 5,
   "metadata": {
    "colab": {
     "base_uri": "https://localhost:8080/"
    },
    "executionInfo": {
     "elapsed": 409,
     "status": "ok",
     "timestamp": 1739722444064,
     "user": {
      "displayName": "Mesih Kilinc",
      "userId": "18025626360093081359"
     },
     "user_tz": 360
    },
    "id": "rwGUt7MJSM13",
    "outputId": "1060586a-2f37-4554-fda4-9e537d1a2f74"
   },
   "outputs": [
    {
     "data": {
      "text/plain": [
       "4875"
      ]
     },
     "execution_count": 5,
     "metadata": {},
     "output_type": "execute_result"
    }
   ],
   "source": [
    "data = \"\"\"Türkiye, resmî adıyla Türkiye Cumhuriyeti, topraklarının büyük bölümü Batı Asya'da Anadolu'da, diğer bir bölümü ise Güneydoğu Avrupa'nın uzantısı Doğu Trakya'da olan kıtalararası bir ülkedir. Batıda Bulgaristan ve Yunanistan, doğuda Gürcistan, Ermenistan, İran ve Azerbaycan, güneyde ise Irak ve Suriye ile sınır komşusudur. Güneyini Kıbrıs ve Akdeniz, batısını Ege Denizi, kuzeyini ise Karadeniz çevreler. Marmara Denizi ise İstanbul Boğazı ve Çanakkale Boğazı ile birlikte Anadolu'yu Trakya'dan, yani Asya'yı Avrupa'dan ayırır. Resmî olarak laik bir devlet olan Türkiye'de nüfusun çoğunluğu Müslümandır. Ankara, Türkiye'nin başkenti ve ikinci en kalabalık şehri; İstanbul ise, Türkiye'nin en kalabalık şehri, ekonomik ve finansal merkezi ve aynı zamanda Avrupa'nın en kalabalık şehridir.\n",
    "\n",
    "Türkiye toprakları üzerindeki ilk yerleşmeler Yontma Taş Devri'nde başlar. Doğu Trakya'da Traklar olmak üzere, Hititler, Frigler, Lidyalılar ve Dor istilası sonucu Yunanistan'dan kaçan Akalar tarafından kurulan İyon medeniyeti gibi çeşitli eski Anadolu medeniyetlerinin ardından, Makedonya kralı Büyük İskender'in egemenliğiyle ve fetihleriyle birlikte Helenistik Dönem başladı. Daha sonra, sırasıyla Roma İmparatorluğu ve Anadolu'nun Hristiyanlaştığı Bizans dönemleri yaşandı. Selçuklu Türklerinin 1071 yılında Bizans'a karşı kazandığı Malazgirt Meydan Muharebesi ile Anadolu'daki Bizans üstünlüğü büyük ölçüde kırılarak Anadolu, kısa süre içerisinde Selçuklulara bağlı Türk beyleri tarafından ele geçirildi ve Anadolu toprakları üzerinde İslamlaşma ve Türkleşme faaliyetleri başladı. Kısa sürede Anadolu'daki diğer Türk beyliklerinin üzerinde hâkimiyet kuran Konya merkezli Anadolu Selçuklu Sultanlığı, 1243 yılındaki Moğollara karşı kaybedilen Kösedağ Muharebesi'ne kadar Anadolu'yu yönetti. Anadolu'daki Moğol istilalarından sonra zayıf duruma düşen Anadolu Selçuklu Devleti, Anadolu'da yerini yeni Türk beyliklerine bıraktı.\n",
    "\n",
    "13. yüzyılın sonlarından itibaren Batı Anadolu'daki Türk beyliklerinden biri olarak ön plana çıkan ve bağımsızlık kazanan Osmanlılar, 14. yüzyılda Balkan topraklarında gerçekleştirdiği fetihlerle büyük bir güç hâline geldi ve Anadolu'daki diğer Türk beylikleri üzerinde de hâkimiyet kurdu. Osmanlılar, 1453 yılında II. Mehmed'in İstanbul'u fethederek Bizans İmparatorluğu'na son vermesiyle imparatorluk hâline geldi. İmparatorluk, zirvesini 16. yüzyılda, özellikle I. Süleyman döneminde yaşadı. 1683 yılındaki II. Viyana Kuşatması sonrasında gelen bozgun ve 15 sene süren Kutsal İttifak Savaşları sonucunda Osmanlı İmparatorluğu'nun Avrupa'ya karşı üstünlüğü sona erdi.\n",
    "\n",
    "19. yüzyıla gelindiğinde imparatorluk, Tanzimat adı verilen ciddi bir modernleşme sürecine girdi. 1876 yılında Türk tarihinin ilk yazılı anayasasının ilan edilip meclisin açılmasıyla başlayan I. Meşrutiyet devri, 1878 yılına kadar sürse de, 1908 yılında II. Meşrutiyet ilan edilerek anayasa tekrar yürürlüğe girdi. Ancak yapılan reformlar, imparatorluğun dağılmasını engelleyemedi. 1914 yılında başlayan I. Dünya Savaşı'na İttifak Devletleri'nin yanında giren imparatorluk, savaş sonucunda yenik düşerek 30 Ekim 1918 tarihinde tüm orduların teslim olması şartını kabul etti ve akabinde İtilaf Devletleri'nce işgal edildi. 16 Mart 1920'de İtilaf Devletleri'nin İstanbul'u işgal edip bazı milletvekillerini tutuklayarak sürgüne göndermesi sonucunda Meclis-i Mebûsan'ın kapanmasıyla Mustafa Kemal Paşa önderliğinde 23 Nisan 1920 tarihinde Ankara'da Türkiye Büyük Millet Meclisi kuruldu. Onun önderliğinde işgalci kuvvetlere karşı yapılan Kurtuluş Savaşı (1919-1922) başarıya ulaşarak, 1 Kasım 1922 tarihinde Türkiye Büyük Millet Meclisi tarafından saltanatın kaldırılmasıyla Osmanlı monarşisi ve Osmanlı İmparatorluğu tarihe karıştı. Cumhuriyet, ülkenin ilk cumhurbaşkanı Mustafa Kemal Atatürk tarafından 29 Ekim 1923'te ilan edildi. 3 Mart 1924'te hilafetin kaldırılıp Osmanlı Hanedanı'nın yurt dışına sürgün edilmesinden sonra, çağdaş Türkiye'nin oluşumunda önemli yer tutacak olan bir dizi devrim gerçekleştirildi.\n",
    "\n",
    "Türkiye gelişmekte olan bir ülkedir ve cumhurbaşkanlığı sistemiyle yönetilen demokratik, laik ve üniter bir anayasal cumhuriyettir. Resmî dili Türkçedir ve nüfusunun çoğunluğu Sünni Müslüman'dır. Türkiye, OECD, G20 ve Türk Devletleri Teşkilatı'nın kurucu üyesidir. Türkiye NATO'nun ilk üyelerinden biridir. AB adayı olan Türkiye, AB Gümrük Birliği, Avrupa Konseyi, İslam İşbirliği Teşkilatı ve TÜRKSOY'un bir parçasıdır. Türkiye, askerî kapasitesi ve diplomatik girişimleri sayesinde bölgesel güç kabul edilirken; Avrupa ve Asya kıtalarının kavşak noktasında yer alması nedeniyle önemli bir jeostratejik güce sahiptir. Türkiye evrensel sağlık hizmetlerine, artan eğitim erişimine ve artan yenilikçiliğe sahiptir. 21 UNESCO Dünya Mirası alanı, 30 UNESCO Somut Olmayan Kültürel Mirası[7] ve zengin mutfağı ile Türkiye, dünyanın en çok ziyaret edilen beşinci ülkesidir.\"\"\"\n",
    "len(data)"
   ]
  },
  {
   "cell_type": "code",
   "execution_count": 13,
   "metadata": {
    "colab": {
     "base_uri": "https://localhost:8080/"
    },
    "executionInfo": {
     "elapsed": 116,
     "status": "ok",
     "timestamp": 1739667893390,
     "user": {
      "displayName": "Mesih Kilinc",
      "userId": "18025626360093081359"
     },
     "user_tz": 360
    },
    "id": "I2dyKcXRSSip",
    "outputId": "815c3618-0cb4-4c95-c9b3-615655890c7f"
   },
   "outputs": [
    {
     "data": {
      "text/plain": [
       "5308"
      ]
     },
     "execution_count": 13,
     "metadata": {},
     "output_type": "execute_result"
    }
   ],
   "source": [
    "len(data.encode('utf-8'))"
   ]
  },
  {
   "cell_type": "code",
   "execution_count": 1,
   "metadata": {
    "colab": {
     "base_uri": "https://localhost:8080/"
    },
    "executionInfo": {
     "elapsed": 270,
     "status": "ok",
     "timestamp": 1739722059827,
     "user": {
      "displayName": "Mesih Kilinc",
      "userId": "18025626360093081359"
     },
     "user_tz": 360
    },
    "id": "rR90r4cmgS_3",
    "outputId": "0f33af2c-ef8c-47e5-8242-422f3072f6d3"
   },
   "outputs": [
    {
     "data": {
      "text/plain": [
       "[4, 2, 3, 4]"
      ]
     },
     "execution_count": 1,
     "metadata": {},
     "output_type": "execute_result"
    }
   ],
   "source": [
    "#[1,1,2,3,1,1] -> (1,1) : [4,2,3,4]\n",
    "def merge(token,pair,idx):\n",
    "  data = list(token)\n",
    "  i = 1\n",
    "  while i < len(data):\n",
    "    p = (data[i-1], data[i])\n",
    "    if p == pair:\n",
    "      data[i-1] = idx\n",
    "      data.pop(i)\n",
    "    i += 1\n",
    "  return data\n",
    "\n",
    "merge([1,1,2,3,1,1], (1,1), 4 )"
   ]
  },
  {
   "cell_type": "code",
   "execution_count": 4,
   "metadata": {
    "colab": {
     "base_uri": "https://localhost:8080/"
    },
    "executionInfo": {
     "elapsed": 284,
     "status": "ok",
     "timestamp": 1739722337438,
     "user": {
      "displayName": "Mesih Kilinc",
      "userId": "18025626360093081359"
     },
     "user_tz": 360
    },
    "id": "Pc_4QVLJhEC3",
    "outputId": "54460010-f9d6-4d2e-cc03-6e0484932070"
   },
   "outputs": [
    {
     "data": {
      "text/plain": [
       "(2, 3)"
      ]
     },
     "execution_count": 4,
     "metadata": {},
     "output_type": "execute_result"
    }
   ],
   "source": [
    "def mostfrequent(tokens):\n",
    "  stats = {}\n",
    "  for i in range(1,len(tokens)):\n",
    "    p = (tokens[i-1], tokens[i]) #(1,1)\n",
    "    stats[p] = stats.get(p,0) + 1\n",
    "  count = 0\n",
    "  mpair = (0,0)\n",
    "  for pair in stats:\n",
    "    if stats[pair] > count:\n",
    "      count = stats[pair]\n",
    "      mpair = pair\n",
    "\n",
    "  return mpair\n",
    "\n",
    "mostfrequent([1,1,2,3,1,1,2,3,2,3])"
   ]
  },
  {
   "cell_type": "code",
   "execution_count": 20,
   "metadata": {
    "colab": {
     "base_uri": "https://localhost:8080/"
    },
    "executionInfo": {
     "elapsed": 613,
     "status": "ok",
     "timestamp": 1739723697555,
     "user": {
      "displayName": "Mesih Kilinc",
      "userId": "18025626360093081359"
     },
     "user_tz": 360
    },
    "id": "1xBKq0AqiTWf",
    "outputId": "5ec3d049-8376-4877-a925-acfb589b14a2"
   },
   "outputs": [
    {
     "name": "stdout",
     "output_type": "stream",
     "text": [
      "Original length: 5308\n",
      "Merge:(196, 177) as 256 lenght: 5150\n",
      "Merge:(195, 188) as 257 lenght: 5045\n",
      "Merge:(101, 32) as 258 lenght: 4949\n",
      "Merge:(110, 32) as 259 lenght: 4859\n",
      "Merge:(97, 114) as 260 lenght: 4789\n",
      "Merge:(97, 32) as 261 lenght: 4729\n",
      "Merge:(197, 159) as 262 lenght: 4672\n",
      "Merge:(101, 114) as 263 lenght: 4616\n",
      "Merge:(97, 110) as 264 lenght: 4565\n",
      "Merge:(105, 32) as 265 lenght: 4514\n",
      "Merge:(107, 32) as 266 lenght: 4467\n",
      "Merge:(110, 100) as 267 lenght: 4422\n",
      "Merge:(44, 32) as 268 lenght: 4379\n",
      "Merge:(196, 159) as 269 lenght: 4336\n",
      "Merge:(256, 32) as 270 lenght: 4296\n",
      "Merge:(257, 114) as 271 lenght: 4258\n",
      "Merge:(105, 114) as 272 lenght: 4220\n",
      "Merge:(46, 32) as 273 lenght: 4183\n",
      "Merge:(105, 108) as 274 lenght: 4146\n",
      "Merge:(105, 121) as 275 lenght: 4111\n",
      "Merge:(97, 259) as 276 lenght: 4077\n",
      "Merge:(108, 117) as 277 lenght: 4045\n",
      "Merge:(101, 116) as 278 lenght: 4016\n",
      "Merge:(97, 108) as 279 lenght: 3987\n",
      "Merge:(118, 258) as 280 lenght: 3960\n",
      "Merge:(84, 271) as 281 lenght: 3934\n",
      "Merge:(97, 100) as 282 lenght: 3910\n",
      "Merge:(108, 263) as 283 lenght: 3886\n",
      "Merge:(195, 167) as 284 lenght: 3863\n",
      "Merge:(256, 108) as 285 lenght: 3840\n",
      "Merge:(97, 116) as 286 lenght: 3818\n",
      "Merge:(105, 115) as 287 lenght: 3796\n",
      "Merge:(97, 115) as 288 lenght: 3774\n",
      "Merge:(101, 100) as 289 lenght: 3752\n",
      "Merge:(97, 262) as 290 lenght: 3731\n",
      "Merge:(97, 107) as 291 lenght: 3711\n",
      "Merge:(101, 110) as 292 lenght: 3691\n",
      "Merge:(281, 107) as 293 lenght: 3672\n",
      "Merge:(196, 176) as 294 lenght: 3653\n",
      "Merge:(65, 110) as 295 lenght: 3635\n",
      "Merge:(105, 110) as 296 lenght: 3617\n",
      "Merge:(105, 267) as 297 lenght: 3599\n",
      "Merge:(256, 267) as 298 lenght: 3581\n",
      "Merge:(195, 182) as 299 lenght: 3564\n",
      "Merge:(39, 100) as 300 lenght: 3547\n",
      "Merge:(293, 275) as 301 lenght: 3531\n",
      "Merge:(101, 115) as 302 lenght: 3515\n",
      "Merge:(111, 277) as 303 lenght: 3499\n",
      "Merge:(39, 110) as 304 lenght: 3483\n",
      "Merge:(101, 259) as 305 lenght: 3467\n",
      "Merge:(111, 110) as 306 lenght: 3451\n",
      "Merge:(101, 108) as 307 lenght: 3435\n",
      "Merge:(117, 114) as 308 lenght: 3420\n",
      "Merge:(295, 282) as 309 lenght: 3405\n",
      "Merge:(309, 303) as 310 lenght: 3390\n",
      "Merge:(98, 272) as 311 lenght: 3375\n",
      "Merge:(105, 259) as 312 lenght: 3360\n",
      "Merge:(108, 260) as 313 lenght: 3346\n",
      "Merge:(97, 121) as 314 lenght: 3332\n",
      "Merge:(105, 109) as 315 lenght: 3318\n",
      "Merge:(100, 105) as 316 lenght: 3305\n",
      "Merge:(101, 121) as 317 lenght: 3292\n",
      "Merge:(269, 117) as 318 lenght: 3279\n",
      "Merge:(297, 258) as 319 lenght: 3266\n",
      "Merge:(256, 259) as 320 lenght: 3254\n",
      "Merge:(108, 105) as 321 lenght: 3242\n",
      "Merge:(111, 114) as 322 lenght: 3230\n",
      "Merge:(121, 285) as 323 lenght: 3218\n",
      "Merge:(49, 57) as 324 lenght: 3206\n",
      "Merge:(257, 110) as 325 lenght: 3195\n",
      "Merge:(118, 114) as 326 lenght: 3184\n",
      "Merge:(117, 108) as 327 lenght: 3173\n",
      "Merge:(97, 266) as 328 lenght: 3162\n",
      "Merge:(256, 114) as 329 lenght: 3151\n",
      "Merge:(101, 262) as 330 lenght: 3140\n",
      "Merge:(101, 109) as 331 lenght: 3129\n",
      "Merge:(275, 278) as 332 lenght: 3119\n",
      "Merge:(121, 257) as 333 lenght: 3109\n",
      "Merge:(311, 32) as 334 lenght: 3099\n",
      "Merge:(287, 116) as 335 lenght: 3089\n",
      "Merge:(115, 306) as 336 lenght: 3079\n",
      "Merge:(112, 260) as 337 lenght: 3069\n",
      "Merge:(301, 101) as 338 lenght: 3060\n",
      "Merge:(256, 110) as 339 lenght: 3051\n",
      "Merge:(111, 108) as 340 lenght: 3042\n",
      "Merge:(105, 122) as 341 lenght: 3033\n",
      "Merge:(115, 116) as 342 lenght: 3024\n",
      "Merge:(108, 278) as 343 lenght: 3015\n",
      "Merge:(109, 264) as 344 lenght: 3006\n",
      "Merge:(98, 290) as 345 lenght: 2997\n",
      "Merge:(116, 260) as 346 lenght: 2988\n",
      "Merge:(97, 102) as 347 lenght: 2979\n",
      "Merge:(337, 286) as 348 lenght: 2970\n",
      "Merge:(348, 322) as 349 lenght: 2961\n",
      "Merge:(349, 277) as 350 lenght: 2952\n",
      "Merge:(298, 261) as 351 lenght: 2943\n",
      "Merge:(114, 291) as 352 lenght: 2935\n",
      "Merge:(121, 97) as 353 lenght: 2927\n",
      "Merge:(117, 259) as 354 lenght: 2919\n",
      "Merge:(32, 77) as 355 lenght: 2911\n",
      "Merge:(99, 117) as 356 lenght: 2903\n",
      "Merge:(107, 97) as 357 lenght: 2895\n",
      "Merge:(32, 323) as 358 lenght: 2887\n",
      "Merge:(289, 274) as 359 lenght: 2879\n",
      "Merge:(301, 258) as 360 lenght: 2872\n",
      "Merge:(105, 268) as 361 lenght: 2865\n",
      "Merge:(108, 257) as 362 lenght: 2858\n",
      "Merge:(310, 300) as 363 lenght: 2851\n",
      "Merge:(32, 280) as 364 lenght: 2844\n",
      "Merge:(107, 279) as 365 lenght: 2837\n",
      "Merge:(321, 107) as 366 lenght: 2830\n",
      "Merge:(105, 266) as 367 lenght: 2823\n",
      "Merge:(107, 260) as 368 lenght: 2816\n",
      "Merge:(265, 280) as 369 lenght: 2809\n",
      "Merge:(101, 107) as 370 lenght: 2802\n",
      "Merge:(279, 32) as 371 lenght: 2795\n",
      "Merge:(105, 116) as 372 lenght: 2788\n",
      "Merge:(121, 261) as 373 lenght: 2781\n",
      "Merge:(108, 258) as 374 lenght: 2774\n",
      "Merge:(105, 104) as 375 lenght: 2767\n",
      "Merge:(299, 110) as 376 lenght: 2760\n",
      "Merge:(288, 256) as 377 lenght: 2753\n",
      "Merge:(291, 265) as 378 lenght: 2746\n",
      "Merge:(115, 271) as 379 lenght: 2739\n",
      "Merge:(97, 269) as 380 lenght: 2732\n",
      "Merge:(281, 266) as 381 lenght: 2725\n",
      "Merge:(117, 116) as 382 lenght: 2718\n",
      "Merge:(257, 333) as 383 lenght: 2712\n",
      "Merge:(383, 266) as 384 lenght: 2706\n",
      "Merge:(263, 32) as 385 lenght: 2700\n",
      "Merge:(111, 318) as 386 lenght: 2694\n",
      "Merge:(65, 326) as 387 lenght: 2688\n",
      "Merge:(387, 117) as 388 lenght: 2682\n",
      "Merge:(388, 112) as 389 lenght: 2676\n",
      "Merge:(288, 270) as 390 lenght: 2670\n",
      "Merge:(257, 108) as 391 lenght: 2664\n",
      "Merge:(272, 273) as 392 lenght: 2658\n",
      "Merge:(264, 268) as 393 lenght: 2652\n",
      "Merge:(122, 263) as 394 lenght: 2646\n",
      "Merge:(98, 327) as 395 lenght: 2640\n",
      "Merge:(101, 118) as 396 lenght: 2634\n",
      "Merge:(396, 343) as 397 lenght: 2628\n",
      "Merge:(105, 100) as 398 lenght: 2622\n",
      "Merge:(298, 276) as 399 lenght: 2616\n",
      "Merge:(283, 296) as 400 lenght: 2610\n",
      "Merge:(283, 265) as 401 lenght: 2604\n",
      "Merge:(258, 103) as 402 lenght: 2598\n",
      "Merge:(32, 83) as 403 lenght: 2592\n",
      "Merge:(79, 115) as 404 lenght: 2586\n",
      "Merge:(404, 344) as 405 lenght: 2580\n",
      "Merge:(405, 108) as 406 lenght: 2574\n",
      "Merge:(73, 273) as 407 lenght: 2568\n",
      "Merge:(105, 262) as 408 lenght: 2562\n",
      "Merge:(324, 50) as 409 lenght: 2556\n",
      "Merge:(338, 268) as 410 lenght: 2551\n",
      "Merge:(121, 108) as 411 lenght: 2546\n",
      "Merge:(411, 261) as 412 lenght: 2541\n",
      "Merge:(109, 104) as 413 lenght: 2536\n",
      "Merge:(413, 308) as 414 lenght: 2531\n",
      "Merge:(352, 313) as 415 lenght: 2526\n",
      "Merge:(97, 268) as 416 lenght: 2521\n",
      "Merge:(256, 115) as 417 lenght: 2516\n",
      "Merge:(340, 276) as 418 lenght: 2511\n",
      "Merge:(111, 109) as 419 lenght: 2506\n",
      "Merge:(101, 326) as 420 lenght: 2501\n",
      "Merge:(116, 258) as 421 lenght: 2496\n",
      "Merge:(304, 312) as 422 lenght: 2491\n",
      "Merge:(256, 266) as 423 lenght: 2486\n",
      "Merge:(264, 115) as 424 lenght: 2481\n",
      "Merge:(257, 394) as 425 lenght: 2476\n",
      "Merge:(108, 330) as 426 lenght: 2471\n",
      "Merge:(32, 68) as 427 lenght: 2466\n",
      "Merge:(117, 356) as 428 lenght: 2461\n",
      "Merge:(32, 346) as 429 lenght: 2456\n",
      "Merge:(107, 308) as 430 lenght: 2451\n",
      "Merge:(321, 269) as 431 lenght: 2446\n",
      "Merge:(275, 374) as 432 lenght: 2441\n",
      "Merge:(376, 331) as 433 lenght: 2436\n",
      "Merge:(256, 273) as 434 lenght: 2431\n",
      "Merge:(294, 109) as 435 lenght: 2426\n",
      "Merge:(435, 350) as 436 lenght: 2421\n",
      "Merge:(32, 100) as 437 lenght: 2416\n",
      "Merge:(117, 107) as 438 lenght: 2411\n",
      "Merge:(358, 351) as 439 lenght: 2406\n",
      "Merge:(363, 378) as 440 lenght: 2401\n",
      "Merge:(381, 98) as 441 lenght: 2396\n",
      "Merge:(441, 317) as 442 lenght: 2391\n",
      "Merge:(316, 273) as 443 lenght: 2386\n",
      "Merge:(101, 99) as 444 lenght: 2381\n",
      "Merge:(315, 32) as 445 lenght: 2376\n",
      "Merge:(260, 116) as 446 lenght: 2371\n",
      "Merge:(195, 174) as 447 lenght: 2367\n",
      "Merge:(116, 111) as 448 lenght: 2363\n",
      "Merge:(448, 112) as 449 lenght: 2359\n",
      "Merge:(449, 415) as 450 lenght: 2355\n",
      "Merge:(257, 32) as 451 lenght: 2351\n",
      "Merge:(353, 300) as 452 lenght: 2347\n",
      "Merge:(316, 269) as 453 lenght: 2343\n",
      "Merge:(287, 258) as 454 lenght: 2339\n",
      "Merge:(389, 97) as 455 lenght: 2335\n",
      "Merge:(304, 320) as 456 lenght: 2331\n",
      "Merge:(391, 107) as 457 lenght: 2327\n",
      "Merge:(100, 261) as 458 lenght: 2323\n",
      "Merge:(274, 258) as 459 lenght: 2319\n",
      "Merge:(296, 265) as 460 lenght: 2315\n",
      "Merge:(292, 341) as 461 lenght: 2311\n",
      "Merge:(294, 342) as 462 lenght: 2307\n",
      "Merge:(462, 264) as 463 lenght: 2303\n",
      "Merge:(463, 395) as 464 lenght: 2299\n",
      "Merge:(111, 269) as 465 lenght: 2295\n",
      "Merge:(97, 122) as 466 lenght: 2291\n",
      "Merge:(117, 32) as 467 lenght: 2287\n",
      "Merge:(329, 273) as 468 lenght: 2283\n",
      "Merge:(108, 97) as 469 lenght: 2279\n",
      "Merge:(97, 98) as 470 lenght: 2275\n",
      "Merge:(101, 104) as 471 lenght: 2271\n",
      "Merge:(101, 268) as 472 lenght: 2267\n",
      "Merge:(46, 10) as 473 lenght: 2263\n",
      "Merge:(473, 10) as 474 lenght: 2259\n",
      "Merge:(274, 266) as 475 lenght: 2255\n",
      "Merge:(285, 260) as 476 lenght: 2251\n",
      "Merge:(336, 428) as 477 lenght: 2247\n",
      "Merge:(347, 399) as 478 lenght: 2243\n",
      "Merge:(108, 265) as 479 lenght: 2239\n",
      "Merge:(267, 263) as 480 lenght: 2235\n",
      "Merge:(345, 108) as 481 lenght: 2231\n",
      "Merge:(336, 114) as 482 lenght: 2227\n",
      "Merge:(377, 412) as 483 lenght: 2223\n",
      "Merge:(436, 318) as 484 lenght: 2219\n",
      "Merge:(256, 269) as 485 lenght: 2215\n",
      "Merge:(66, 341) as 486 lenght: 2211\n",
      "Merge:(486, 424) as 487 lenght: 2207\n",
      "Merge:(307, 284) as 488 lenght: 2203\n",
      "Merge:(488, 438) as 489 lenght: 2199\n",
      "Merge:(489, 277) as 490 lenght: 2195\n",
      "Merge:(368, 262) as 491 lenght: 2191\n",
      "Merge:(491, 270) as 492 lenght: 2187\n",
      "Merge:(442, 366) as 493 lenght: 2183\n",
      "Merge:(104, 195) as 494 lenght: 2179\n",
      "Merge:(494, 162) as 495 lenght: 2175\n",
      "Merge:(268, 49) as 496 lenght: 2171\n",
      "Merge:(273, 333) as 497 lenght: 2167\n",
      "Merge:(497, 122) as 498 lenght: 2163\n",
      "Merge:(498, 323) as 499 lenght: 2159\n",
      "Merge:(103, 257) as 500 lenght: 2155\n",
      "Merge:(315, 350) as 501 lenght: 2151\n",
      "Merge:(107, 268) as 502 lenght: 2147\n",
      "Merge:(261, 75) as 503 lenght: 2143\n",
      "Merge:(103, 307) as 504 lenght: 2139\n",
      "Merge:(294, 116) as 505 lenght: 2135\n",
      "Merge:(97, 118) as 506 lenght: 2131\n",
      "Merge:(506, 290) as 507 lenght: 2127\n",
      "Merge:(267, 261) as 508 lenght: 2123\n",
      "Merge:(406, 270) as 509 lenght: 2119\n",
      "Merge:(105, 112) as 510 lenght: 2115\n",
      "Merge:(444, 108) as 511 lenght: 2111\n"
     ]
    }
   ],
   "source": [
    "encoded = data.encode('utf-8')\n",
    "print(f\"Original length: {len(encoded)}\")\n",
    "merges = {}\n",
    "while len(merges) < 256:\n",
    "  mf = mostfrequent(encoded)\n",
    "  merges[mf] = 256 + len(merges)\n",
    "  encoded = merge(encoded,mf,merges[mf])\n",
    "  print(f\"Merge:{mf} as {merges[mf]} lenght: {len(encoded)}\")"
   ]
  },
  {
   "cell_type": "code",
   "execution_count": 11,
   "metadata": {
    "colab": {
     "base_uri": "https://localhost:8080/"
    },
    "executionInfo": {
     "elapsed": 309,
     "status": "ok",
     "timestamp": 1739723051710,
     "user": {
      "displayName": "Mesih Kilinc",
      "userId": "18025626360093081359"
     },
     "user_tz": 360
    },
    "id": "Q-XpRbpbkWMv",
    "outputId": "aa70d771-dfed-4f3a-eaaa-b1a3fd7fd97f"
   },
   "outputs": [
    {
     "data": {
      "text/plain": [
       "([281, 107, 275, 101], [84, 195, 188, 114, 107, 105, 121, 101])"
      ]
     },
     "execution_count": 11,
     "metadata": {},
     "output_type": "execute_result"
    }
   ],
   "source": [
    "def encode(string):\n",
    "  encoded = string.encode('utf-8')\n",
    "  for m in merges:\n",
    "    encoded = merge(encoded,m,merges[m])\n",
    "  return encoded\n",
    "\n",
    "encode('Türkiye'), list('Türkiye'.encode('utf-8'))"
   ]
  },
  {
   "cell_type": "code",
   "execution_count": 13,
   "metadata": {
    "colab": {
     "base_uri": "https://localhost:8080/",
     "height": 35
    },
    "executionInfo": {
     "elapsed": 414,
     "status": "ok",
     "timestamp": 1739723415850,
     "user": {
      "displayName": "Mesih Kilinc",
      "userId": "18025626360093081359"
     },
     "user_tz": 360
    },
    "id": "i4yT4y3Ak_Xb",
    "outputId": "e15d1dcf-4f7c-4bc8-f1c3-fbc5b5de6327"
   },
   "outputs": [
    {
     "data": {
      "application/vnd.google.colaboratory.intrinsic+json": {
       "type": "string"
      },
      "text/plain": [
       "'Türkiye'"
      ]
     },
     "execution_count": 13,
     "metadata": {},
     "output_type": "execute_result"
    }
   ],
   "source": [
    "def decode(tokens):\n",
    "  charmap = {i:bytes([i]) for i in range(256)} #0:b'0' 1:b'1'\n",
    "  #256:b'196,197'\n",
    "  for pair in merges: #pair = (196,197), idx=256\n",
    "    charmap[merges[pair]] = charmap[pair[0]] + charmap[pair[1]]\n",
    "  uncompressed = b''.join([ charmap[t] for t in tokens])\n",
    "  return uncompressed.decode('utf-8')\n",
    "\n",
    "decode([281, 107, 275, 101])"
   ]
  },
  {
   "cell_type": "code",
   "execution_count": 16,
   "metadata": {
    "colab": {
     "base_uri": "https://localhost:8080/"
    },
    "executionInfo": {
     "elapsed": 318,
     "status": "ok",
     "timestamp": 1739723599258,
     "user": {
      "displayName": "Mesih Kilinc",
      "userId": "18025626360093081359"
     },
     "user_tz": 360
    },
    "id": "T1O1tcnGmtke",
    "outputId": "78db631a-0062-428e-fc29-0ac286d2fa6b"
   },
   "outputs": [
    {
     "data": {
      "text/plain": [
       "True"
      ]
     },
     "execution_count": 16,
     "metadata": {},
     "output_type": "execute_result"
    }
   ],
   "source": [
    "data == decode(encode(data))"
   ]
  },
  {
   "cell_type": "code",
   "execution_count": 18,
   "metadata": {
    "colab": {
     "base_uri": "https://localhost:8080/"
    },
    "executionInfo": {
     "elapsed": 229,
     "status": "ok",
     "timestamp": 1739723659383,
     "user": {
      "displayName": "Mesih Kilinc",
      "userId": "18025626360093081359"
     },
     "user_tz": 360
    },
    "id": "tBnOY_l1m6t9",
    "outputId": "f3dd8054-4ff9-4e5a-e999-2d7d37b46f13"
   },
   "outputs": [
    {
     "data": {
      "text/plain": [
       "True"
      ]
     },
     "execution_count": 18,
     "metadata": {},
     "output_type": "execute_result"
    }
   ],
   "source": [
    "data2 = \"\"\"In this experiment we investigate the properties of the TT-layer and compare different strategies for\n",
    "setting its parameters: dimensions of the tensors representing the input/output of the layer and the\n",
    "TT-ranks of the compressed weight matrix. We run the experiment on the MNIST dataset [15] for\n",
    "the task of handwritten-digit recognition. As a baseline we use a neural network with two fullyconnected layers (1024 hidden units) and rectified linear unit (ReLU) achieving 1.9% error on the\n",
    "test set. For more reshaping options we resize the original 28 × 28 images to 32 × 32.😊\"\"\"\n",
    "\n",
    "data2 == decode(encode(data2))"
   ]
  },
  {
   "cell_type": "code",
   "execution_count": 19,
   "metadata": {
    "colab": {
     "base_uri": "https://localhost:8080/"
    },
    "executionInfo": {
     "elapsed": 413,
     "status": "ok",
     "timestamp": 1739723685680,
     "user": {
      "displayName": "Mesih Kilinc",
      "userId": "18025626360093081359"
     },
     "user_tz": 360
    },
    "id": "Z3F3SyqCnKOI",
    "outputId": "f12e335f-c625-46b7-e531-d7f06df0d443"
   },
   "outputs": [
    {
     "data": {
      "text/plain": [
       "288"
      ]
     },
     "execution_count": 19,
     "metadata": {},
     "output_type": "execute_result"
    }
   ],
   "source": [
    "256 + 32"
   ]
  }
 ],
 "metadata": {
  "colab": {
   "authorship_tag": "ABX9TyOqaoQxPlw4mGkd6fiZKbMM",
   "provenance": []
  },
  "kernelspec": {
   "display_name": "Python 3 (ipykernel)",
   "language": "python",
   "name": "python3"
  },
  "language_info": {
   "codemirror_mode": {
    "name": "ipython",
    "version": 3
   },
   "file_extension": ".py",
   "mimetype": "text/x-python",
   "name": "python",
   "nbconvert_exporter": "python",
   "pygments_lexer": "ipython3",
   "version": "3.13.1"
  }
 },
 "nbformat": 4,
 "nbformat_minor": 4
}
